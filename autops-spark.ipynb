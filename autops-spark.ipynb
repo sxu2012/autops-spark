{
 "cells": [
  {
   "cell_type": "code",
   "execution_count": 1,
   "metadata": {},
   "outputs": [
    {
     "data": {
      "text/plain": [
       "['1,I,VXIO456XLBB630221,Nissan,Altima,2003,2002-05-08,Initial sales from TechMotors',\n",
       " '2,I,INU45KIOOPA343980,Mercedes,C300,2015,2014-01-01,Sold from EuroMotors']"
      ]
     },
     "execution_count": 1,
     "metadata": {},
     "output_type": "execute_result"
    }
   ],
   "source": [
    "from pyspark import SparkContext\n",
    "sc = SparkContext('local', 'autops')\n",
    "raw_rdd = sc.textFile(\"data.csv\")\n",
    "raw_rdd.take(2)"
   ]
  },
  {
   "cell_type": "code",
   "execution_count": 2,
   "metadata": {},
   "outputs": [
    {
     "data": {
      "text/plain": [
       "[('VXIO456XLBB630221', ('Nissan', '2003')),\n",
       " ('INU45KIOOPA343980', ('Mercedes', '2015')),\n",
       " ('VXIO456XLBB630221', ('', '')),\n",
       " ('VXIO456XLBB630221', ('', '')),\n",
       " ('VOME254OOXW344325', ('Mercedes', '2015')),\n",
       " ('VOME254OOXW344325', ('', '')),\n",
       " ('VXIO456XLBB630221', ('', '')),\n",
       " ('EXOA00341AB123456', ('Mercedes', '2016')),\n",
       " ('VOME254OOXW344325', ('', '')),\n",
       " ('VOME254OOXW344325', ('', '')),\n",
       " ('EXOA00341AB123456', ('', '')),\n",
       " ('EXOA00341AB123456', ('', '')),\n",
       " ('VOME254OOXW344325', ('', '')),\n",
       " ('UXIA769ABCC447906', ('Toyota', '2017')),\n",
       " ('UXIA769ABCC447906', ('', '')),\n",
       " ('INU45KIOOPA343980', ('', ''))]"
      ]
     },
     "execution_count": 2,
     "metadata": {},
     "output_type": "execute_result"
    }
   ],
   "source": [
    "def extract_vin_key_value(line):\n",
    "    arr = line.split(',')\n",
    "    return (arr[2], (arr[3], arr[5]))\n",
    "vin_kv = raw_rdd.map(lambda x: extract_vin_key_value(x))\n",
    "vin_kv.collect()"
   ]
  },
  {
   "cell_type": "code",
   "execution_count": 19,
   "metadata": {},
   "outputs": [
    {
     "data": {
      "text/plain": [
       "[('VXIO456XLBB630221', [('Nissan', '2003'), ('', ''), ('', ''), ('', '')]),\n",
       " ('INU45KIOOPA343980', [('Mercedes', '2015'), ('', '')]),\n",
       " ('VOME254OOXW344325',\n",
       "  [('Mercedes', '2015'), ('', ''), ('', ''), ('', ''), ('', '')]),\n",
       " ('EXOA00341AB123456', [('Mercedes', '2016'), ('', ''), ('', '')]),\n",
       " ('UXIA769ABCC447906', [('Toyota', '2017'), ('', '')])]"
      ]
     },
     "execution_count": 19,
     "metadata": {},
     "output_type": "execute_result"
    }
   ],
   "source": [
    "vin_kv.groupByKey().map(lambda x: (x[0], list(x[1]))).collect()\n"
   ]
  },
  {
   "cell_type": "code",
   "execution_count": 34,
   "metadata": {},
   "outputs": [],
   "source": [
    "def populate_make(lines):   \n",
    "    #first pass to find the make and year\n",
    "    for ln in lines:\n",
    "        if ln[0] != '':\n",
    "            make = ln[0]\n",
    "            year = ln[1]\n",
    "            break\n",
    "    #end pass to fill in make and year\n",
    "    new_lines = [(make, year) for ln in lines]\n",
    "\n",
    "    return new_lines\n",
    "\n",
    "enhance_make = vin_kv.groupByKey().flatMap(lambda x: populate_make(list(x[1])))"
   ]
  },
  {
   "cell_type": "code",
   "execution_count": 35,
   "metadata": {},
   "outputs": [
    {
     "data": {
      "text/plain": [
       "[('Nissan', '2003'),\n",
       " ('Nissan', '2003'),\n",
       " ('Nissan', '2003'),\n",
       " ('Nissan', '2003'),\n",
       " ('Mercedes', '2015'),\n",
       " ('Mercedes', '2015'),\n",
       " ('Mercedes', '2015'),\n",
       " ('Mercedes', '2015'),\n",
       " ('Mercedes', '2015'),\n",
       " ('Mercedes', '2015'),\n",
       " ('Mercedes', '2015'),\n",
       " ('Mercedes', '2016'),\n",
       " ('Mercedes', '2016'),\n",
       " ('Mercedes', '2016'),\n",
       " ('Toyota', '2017'),\n",
       " ('Toyota', '2017')]"
      ]
     },
     "execution_count": 35,
     "metadata": {},
     "output_type": "execute_result"
    }
   ],
   "source": [
    "enhance_make.collect()"
   ]
  },
  {
   "cell_type": "code",
   "execution_count": 36,
   "metadata": {},
   "outputs": [],
   "source": [
    "def extract_make_key_value(line):\n",
    "    return (line[0]+'-'+line[1], 1)\n",
    "\n",
    "make_kv = enhance_make.map(lambda x: extract_make_key_value(x))"
   ]
  },
  {
   "cell_type": "code",
   "execution_count": 37,
   "metadata": {
    "scrolled": true
   },
   "outputs": [
    {
     "data": {
      "text/plain": [
       "[('Nissan-2003', 1),\n",
       " ('Nissan-2003', 1),\n",
       " ('Nissan-2003', 1),\n",
       " ('Nissan-2003', 1),\n",
       " ('Mercedes-2015', 1),\n",
       " ('Mercedes-2015', 1),\n",
       " ('Mercedes-2015', 1),\n",
       " ('Mercedes-2015', 1),\n",
       " ('Mercedes-2015', 1),\n",
       " ('Mercedes-2015', 1),\n",
       " ('Mercedes-2015', 1),\n",
       " ('Mercedes-2016', 1),\n",
       " ('Mercedes-2016', 1),\n",
       " ('Mercedes-2016', 1),\n",
       " ('Toyota-2017', 1),\n",
       " ('Toyota-2017', 1)]"
      ]
     },
     "execution_count": 37,
     "metadata": {},
     "output_type": "execute_result"
    }
   ],
   "source": [
    "make_kv.collect()"
   ]
  },
  {
   "cell_type": "code",
   "execution_count": 38,
   "metadata": {},
   "outputs": [],
   "source": [
    "make_year_count = make_kv.reduceByKey(lambda a,b: a+b)"
   ]
  },
  {
   "cell_type": "code",
   "execution_count": 39,
   "metadata": {},
   "outputs": [
    {
     "data": {
      "text/plain": [
       "[('Nissan-2003', 4),\n",
       " ('Mercedes-2015', 7),\n",
       " ('Mercedes-2016', 3),\n",
       " ('Toyota-2017', 2)]"
      ]
     },
     "execution_count": 39,
     "metadata": {},
     "output_type": "execute_result"
    }
   ],
   "source": [
    "make_year_count.collect()"
   ]
  },
  {
   "cell_type": "markdown",
   "metadata": {},
   "source": []
  }
 ],
 "metadata": {
  "kernelspec": {
   "display_name": "Python 3",
   "language": "python",
   "name": "python3"
  },
  "language_info": {
   "codemirror_mode": {
    "name": "ipython",
    "version": 3
   },
   "file_extension": ".py",
   "mimetype": "text/x-python",
   "name": "python",
   "nbconvert_exporter": "python",
   "pygments_lexer": "ipython3",
   "version": "3.8.5"
  }
 },
 "nbformat": 4,
 "nbformat_minor": 4
}
